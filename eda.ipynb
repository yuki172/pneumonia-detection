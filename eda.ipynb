{
 "cells": [
  {
   "cell_type": "code",
   "execution_count": 2,
   "id": "647ccd10-01ea-4489-9d19-19866cccbf04",
   "metadata": {},
   "outputs": [],
   "source": [
    "%matplotlib inline\n",
    "import copy\n",
    "import matplotlib.pyplot as plt\n",
    "import numpy as np\n",
    "import pandas as pd \n",
    "import os\n",
    "import seaborn as sns\n",
    "from sklearn.metrics import confusion_matrix\n",
    "import torch\n",
    "import torch.nn as nn\n",
    "import torch.optim as optim\n",
    "import torchvision\n",
    "from torchvision import datasets, models, transforms"
   ]
  },
  {
   "cell_type": "code",
   "execution_count": 121,
   "id": "61e58c36-9805-42ae-a468-a2a20da574f5",
   "metadata": {},
   "outputs": [],
   "source": [
    "%run dataset.py\n",
    "%run config.py\n",
    "%run __init__.py"
   ]
  },
  {
   "cell_type": "code",
   "execution_count": 47,
   "id": "2f7b71d3-ac28-4b2a-9be8-86bd20b5fc88",
   "metadata": {},
   "outputs": [],
   "source": [
    "train_dataset = PneumoniaDetectionDataset(split=\"train\")"
   ]
  },
  {
   "cell_type": "code",
   "execution_count": 70,
   "id": "9eea8b9b-00b6-4566-9e46-118a9f938ac7",
   "metadata": {},
   "outputs": [],
   "source": [
    "val_dataset = PneumoniaDetectionDataset(split=\"val\")\n",
    "test_dataset = PneumoniaDetectionDataset(split=\"test\")"
   ]
  },
  {
   "cell_type": "code",
   "execution_count": 196,
   "id": "f8ddb8e9-107f-422f-b885-210c2fe74731",
   "metadata": {},
   "outputs": [],
   "source": [
    "eval_loader = torch.utils.data.DataLoader(\n",
    "    val_dataset,\n",
    "    batch_size=2,\n",
    "    shuffle=True,\n",
    ")"
   ]
  },
  {
   "cell_type": "code",
   "execution_count": 204,
   "id": "c671dd3a-1a44-4c71-a289-2362bca743ae",
   "metadata": {},
   "outputs": [
    {
     "data": {
      "text/plain": [
       "[1, 0]"
      ]
     },
     "execution_count": 204,
     "metadata": {},
     "output_type": "execute_result"
    }
   ],
   "source": [
    "for data in eval_loader:\n",
    "    break\n",
    "list(data[1].numpy())"
   ]
  },
  {
   "cell_type": "code",
   "execution_count": 31,
   "id": "89e0b3d6-54bc-41a8-8e81-7cd55f463bc4",
   "metadata": {},
   "outputs": [],
   "source": [
    "item = None\n",
    "for a in train_dataset:\n",
    "    item = a\n",
    "    break"
   ]
  },
  {
   "cell_type": "code",
   "execution_count": 32,
   "id": "67e1a7cf-87dc-4d42-8207-a0b0d48d7bca",
   "metadata": {},
   "outputs": [],
   "source": [
    "image, label, original_image = item"
   ]
  },
  {
   "cell_type": "code",
   "execution_count": 33,
   "id": "363aee08-f0de-4802-8450-9008e781af9d",
   "metadata": {},
   "outputs": [
    {
     "data": {
      "text/plain": [
       "torch.Size([3, 224, 224])"
      ]
     },
     "execution_count": 33,
     "metadata": {},
     "output_type": "execute_result"
    }
   ],
   "source": [
    "image.shape"
   ]
  },
  {
   "cell_type": "code",
   "execution_count": 34,
   "id": "c9eb1924-4cd4-4ca9-8401-c552d0e097d7",
   "metadata": {},
   "outputs": [
    {
     "data": {
      "text/plain": [
       "0"
      ]
     },
     "execution_count": 34,
     "metadata": {},
     "output_type": "execute_result"
    }
   ],
   "source": [
    "label"
   ]
  },
  {
   "cell_type": "code",
   "execution_count": 55,
   "id": "e66170e5-bef7-424c-a646-1c3d8a16fff3",
   "metadata": {},
   "outputs": [],
   "source": [
    "def show(tensor, label):\n",
    "    # Create figure and axes\n",
    "    fig, ax = plt.subplots(1, 1, figsize=(6, 6))\n",
    "    \n",
    "    # Display the image\n",
    "    ax.imshow(tensor.permute(1, 2, 0))\n",
    "    ax.set_title(classes[label])"
   ]
  },
  {
   "cell_type": "code",
   "execution_count": 59,
   "id": "d5d9132f-f40d-44e8-af39-f57362b17bcd",
   "metadata": {},
   "outputs": [],
   "source": [
    "classes = train_dataset.dataset.classes"
   ]
  },
  {
   "cell_type": "code",
   "execution_count": 62,
   "id": "4f5a6f25-b9a4-466c-b675-00500f441ae2",
   "metadata": {},
   "outputs": [],
   "source": [
    "# show(train_dataset[0][0], train_dataset[0][1])\n",
    "# show(train_dataset[4000][0], train_dataset[4000][1])"
   ]
  },
  {
   "cell_type": "code",
   "execution_count": 49,
   "id": "79160cd7-6a7f-4bb4-a7e5-20097478f0ec",
   "metadata": {},
   "outputs": [],
   "source": [
    "def show_images(dataset):\n",
    "    fig, axes = plt.subplots(3, 3, figsize=(8, 8))\n",
    "    fig.subplots_adjust(hspace=0.3, wspace=0.3)\n",
    "    classes = dataset.classes\n",
    "    for i in range(3):\n",
    "        for j in range(3):\n",
    "            image, label, _ = dataset[3 * i + j]\n",
    " \n",
    "            axes[i, j].imshow(image.permute(1, 2, 0))\n",
    "            axes[i, j].set_title(classes[label])\n",
    "            axes[i, j].axis('off')\n",
    "    \n",
    "    plt.show()"
   ]
  },
  {
   "cell_type": "code",
   "execution_count": 51,
   "id": "6d2c2fbf-35c5-472b-89c8-6a2b01849430",
   "metadata": {},
   "outputs": [],
   "source": [
    "# show_images(train_dataset)"
   ]
  },
  {
   "cell_type": "code",
   "execution_count": 53,
   "id": "666898e4-acde-404c-821b-0597fb4cda3e",
   "metadata": {},
   "outputs": [
    {
     "data": {
      "text/plain": [
       "<Axes: xlabel='count'>"
      ]
     },
     "execution_count": 53,
     "metadata": {},
     "output_type": "execute_result"
    },
    {
     "data": {
      "image/png": "[encoded data removed]",
      "text/plain": [
       "<Figure size 640x480 with 1 Axes>"
      ]
     },
     "metadata": {},
     "output_type": "display_data"
    }
   ],
   "source": [
    "train_labels = []\n",
    "for data in train_dataset:\n",
    "    if(data[1] == 0):\n",
    "        train_labels.append(\"Pneumonia\")\n",
    "    else:\n",
    "        train_labels.append(\"Normal\")\n",
    "sns.set_style('darkgrid')\n",
    "sns.countplot(train_labels)    "
   ]
  },
  {
   "cell_type": "code",
   "execution_count": 74,
   "id": "33dc16b0-83c8-4092-a4a9-18aa2edbba1a",
   "metadata": {},
   "outputs": [],
   "source": [
    "def show_classes(dataset):\n",
    "    labels = []\n",
    "    for data in dataset:\n",
    "        if(data[1] == 0):\n",
    "            labels.append(\"Pneumonia\")\n",
    "        else:\n",
    "            labels.append(\"Normal\")\n",
    "    sns.set_style('darkgrid')\n",
    "    sns.countplot(labels)    "
   ]
  },
  {
   "cell_type": "code",
   "execution_count": 75,
   "id": "209b983c-92c5-410f-a9e3-7fec13e79230",
   "metadata": {},
   "outputs": [
    {
     "data": {
      "image/png": "[encoded data removed]",
      "text/plain": [
       "<Figure size 640x480 with 1 Axes>"
      ]
     },
     "metadata": {},
     "output_type": "display_data"
    }
   ],
   "source": [
    "show_classes(test_dataset)"
   ]
  },
  {
   "cell_type": "code",
   "execution_count": 76,
   "id": "eb99f289-19cf-4d8f-ab9b-d30360b0bcef",
   "metadata": {},
   "outputs": [],
   "source": [
    "targets = torch.tensor([s[1] for s in test_dataset])\n",
    "class_count = torch.tensor([(targets == i).sum() for i in [0, 1]])"
   ]
  },
  {
   "cell_type": "code",
   "execution_count": 77,
   "id": "b3779b70-767c-4523-a77a-1e36faa9d886",
   "metadata": {},
   "outputs": [
    {
     "data": {
      "text/plain": [
       "tensor([390, 234])"
      ]
     },
     "execution_count": 77,
     "metadata": {},
     "output_type": "execute_result"
    }
   ],
   "source": [
    "class_count"
   ]
  },
  {
   "cell_type": "code",
   "execution_count": 78,
   "id": "6058ddcc-2f7e-49d8-9aec-14c94b814e43",
   "metadata": {},
   "outputs": [],
   "source": [
    "weights = 1.0 / torch.tensor(\n",
    "    [class_count[t] for t in targets], dtype=torch.float\n",
    ")"
   ]
  },
  {
   "cell_type": "code",
   "execution_count": 80,
   "id": "3ba14dac-a9a1-4d5c-b6b4-de9f8a031afb",
   "metadata": {},
   "outputs": [],
   "source": [
    "from torch.utils.data import DataLoader, WeightedRandomSampler"
   ]
  },
  {
   "cell_type": "code",
   "execution_count": 81,
   "id": "a446696d-4517-4d45-b67c-03ac856c7847",
   "metadata": {},
   "outputs": [],
   "source": [
    "sampler = WeightedRandomSampler(weights, num_samples=len(weights), replacement=True)"
   ]
  },
  {
   "cell_type": "code",
   "execution_count": 82,
   "id": "0786648e-2fe4-4b01-af59-b66390f889c2",
   "metadata": {},
   "outputs": [
    {
     "data": {
      "text/plain": [
       "<torch.utils.data.sampler.WeightedRandomSampler at 0x328409b90>"
      ]
     },
     "execution_count": 82,
     "metadata": {},
     "output_type": "execute_result"
    }
   ],
   "source": [
    "sampler"
   ]
  },
  {
   "cell_type": "code",
   "execution_count": 83,
   "id": "0189dada-bdf3-456e-b479-1da4b966423d",
   "metadata": {},
   "outputs": [],
   "source": [
    "from torchvision.models import resnet50, ResNet50_Weights"
   ]
  },
  {
   "cell_type": "code",
   "execution_count": 84,
   "id": "1e05a02a-cea3-48d2-afcd-449b2b5a0b1b",
   "metadata": {},
   "outputs": [
    {
     "data": {
      "text/plain": [
       "ResNet(\n",
       "  (conv1): Conv2d(3, 64, kernel_size=(7, 7), stride=(2, 2), padding=(3, 3), bias=False)\n",
       "  (bn1): BatchNorm2d(64, eps=1e-05, momentum=0.1, affine=True, track_running_stats=True)\n",
       "  (relu): ReLU(inplace=True)\n",
       "  (maxpool): MaxPool2d(kernel_size=3, stride=2, padding=1, dilation=1, ceil_mode=False)\n",
       "  (layer1): Sequential(\n",
       "    (0): Bottleneck(\n",
       "      (conv1): Conv2d(64, 64, kernel_size=(1, 1), stride=(1, 1), bias=False)\n",
       "      (bn1): BatchNorm2d(64, eps=1e-05, momentum=0.1, affine=True, track_running_stats=True)\n",
       "      (conv2): Conv2d(64, 64, kernel_size=(3, 3), stride=(1, 1), padding=(1, 1), bias=False)\n",
       "      (bn2): BatchNorm2d(64, eps=1e-05, momentum=0.1, affine=True, track_running_stats=True)\n",
       "      (conv3): Conv2d(64, 256, kernel_size=(1, 1), stride=(1, 1), bias=False)\n",
       "      (bn3): BatchNorm2d(256, eps=1e-05, momentum=0.1, affine=True, track_running_stats=True)\n",
       "      (relu): ReLU(inplace=True)\n",
       "      (downsample): Sequential(\n",
       "        (0): Conv2d(64, 256, kernel_size=(1, 1), stride=(1, 1), bias=False)\n",
       "        (1): BatchNorm2d(256, eps=1e-05, momentum=0.1, affine=True, track_running_stats=True)\n",
       "      )\n",
       "    )\n",
       "    (1): Bottleneck(\n",
       "      (conv1): Conv2d(256, 64, kernel_size=(1, 1), stride=(1, 1), bias=False)\n",
       "      (bn1): BatchNorm2d(64, eps=1e-05, momentum=0.1, affine=True, track_running_stats=True)\n",
       "      (conv2): Conv2d(64, 64, kernel_size=(3, 3), stride=(1, 1), padding=(1, 1), bias=False)\n",
       "      (bn2): BatchNorm2d(64, eps=1e-05, momentum=0.1, affine=True, track_running_stats=True)\n",
       "      (conv3): Conv2d(64, 256, kernel_size=(1, 1), stride=(1, 1), bias=False)\n",
       "      (bn3): BatchNorm2d(256, eps=1e-05, momentum=0.1, affine=True, track_running_stats=True)\n",
       "      (relu): ReLU(inplace=True)\n",
       "    )\n",
       "    (2): Bottleneck(\n",
       "      (conv1): Conv2d(256, 64, kernel_size=(1, 1), stride=(1, 1), bias=False)\n",
       "      (bn1): BatchNorm2d(64, eps=1e-05, momentum=0.1, affine=True, track_running_stats=True)\n",
       "      (conv2): Conv2d(64, 64, kernel_size=(3, 3), stride=(1, 1), padding=(1, 1), bias=False)\n",
       "      (bn2): BatchNorm2d(64, eps=1e-05, momentum=0.1, affine=True, track_running_stats=True)\n",
       "      (conv3): Conv2d(64, 256, kernel_size=(1, 1), stride=(1, 1), bias=False)\n",
       "      (bn3): BatchNorm2d(256, eps=1e-05, momentum=0.1, affine=True, track_running_stats=True)\n",
       "      (relu): ReLU(inplace=True)\n",
       "    )\n",
       "  )\n",
       "  (layer2): Sequential(\n",
       "    (0): Bottleneck(\n",
       "      (conv1): Conv2d(256, 128, kernel_size=(1, 1), stride=(1, 1), bias=False)\n",
       "      (bn1): BatchNorm2d(128, eps=1e-05, momentum=0.1, affine=True, track_running_stats=True)\n",
       "      (conv2): Conv2d(128, 128, kernel_size=(3, 3), stride=(2, 2), padding=(1, 1), bias=False)\n",
       "      (bn2): BatchNorm2d(128, eps=1e-05, momentum=0.1, affine=True, track_running_stats=True)\n",
       "      (conv3): Conv2d(128, 512, kernel_size=(1, 1), stride=(1, 1), bias=False)\n",
       "      (bn3): BatchNorm2d(512, eps=1e-05, momentum=0.1, affine=True, track_running_stats=True)\n",
       "      (relu): ReLU(inplace=True)\n",
       "      (downsample): Sequential(\n",
       "        (0): Conv2d(256, 512, kernel_size=(1, 1), stride=(2, 2), bias=False)\n",
       "        (1): BatchNorm2d(512, eps=1e-05, momentum=0.1, affine=True, track_running_stats=True)\n",
       "      )\n",
       "    )\n",
       "    (1): Bottleneck(\n",
       "      (conv1): Conv2d(512, 128, kernel_size=(1, 1), stride=(1, 1), bias=False)\n",
       "      (bn1): BatchNorm2d(128, eps=1e-05, momentum=0.1, affine=True, track_running_stats=True)\n",
       "      (conv2): Conv2d(128, 128, kernel_size=(3, 3), stride=(1, 1), padding=(1, 1), bias=False)\n",
       "      (bn2): BatchNorm2d(128, eps=1e-05, momentum=0.1, affine=True, track_running_stats=True)\n",
       "      (conv3): Conv2d(128, 512, kernel_size=(1, 1), stride=(1, 1), bias=False)\n",
       "      (bn3): BatchNorm2d(512, eps=1e-05, momentum=0.1, affine=True, track_running_stats=True)\n",
       "      (relu): ReLU(inplace=True)\n",
       "    )\n",
       "    (2): Bottleneck(\n",
       "      (conv1): Conv2d(512, 128, kernel_size=(1, 1), stride=(1, 1), bias=False)\n",
       "      (bn1): BatchNorm2d(128, eps=1e-05, momentum=0.1, affine=True, track_running_stats=True)\n",
       "      (conv2): Conv2d(128, 128, kernel_size=(3, 3), stride=(1, 1), padding=(1, 1), bias=False)\n",
       "      (bn2): BatchNorm2d(128, eps=1e-05, momentum=0.1, affine=True, track_running_stats=True)\n",
       "      (conv3): Conv2d(128, 512, kernel_size=(1, 1), stride=(1, 1), bias=False)\n",
       "      (bn3): BatchNorm2d(512, eps=1e-05, momentum=0.1, affine=True, track_running_stats=True)\n",
       "      (relu): ReLU(inplace=True)\n",
       "    )\n",
       "    (3): Bottleneck(\n",
       "      (conv1): Conv2d(512, 128, kernel_size=(1, 1), stride=(1, 1), bias=False)\n",
       "      (bn1): BatchNorm2d(128, eps=1e-05, momentum=0.1, affine=True, track_running_stats=True)\n",
       "      (conv2): Conv2d(128, 128, kernel_size=(3, 3), stride=(1, 1), padding=(1, 1), bias=False)\n",
       "      (bn2): BatchNorm2d(128, eps=1e-05, momentum=0.1, affine=True, track_running_stats=True)\n",
       "      (conv3): Conv2d(128, 512, kernel_size=(1, 1), stride=(1, 1), bias=False)\n",
       "      (bn3): BatchNorm2d(512, eps=1e-05, momentum=0.1, affine=True, track_running_stats=True)\n",
       "      (relu): ReLU(inplace=True)\n",
       "    )\n",
       "  )\n",
       "  (layer3): Sequential(\n",
       "    (0): Bottleneck(\n",
       "      (conv1): Conv2d(512, 256, kernel_size=(1, 1), stride=(1, 1), bias=False)\n",
       "      (bn1): BatchNorm2d(256, eps=1e-05, momentum=0.1, affine=True, track_running_stats=True)\n",
       "      (conv2): Conv2d(256, 256, kernel_size=(3, 3), stride=(2, 2), padding=(1, 1), bias=False)\n",
       "      (bn2): BatchNorm2d(256, eps=1e-05, momentum=0.1, affine=True, track_running_stats=True)\n",
       "      (conv3): Conv2d(256, 1024, kernel_size=(1, 1), stride=(1, 1), bias=False)\n",
       "      (bn3): BatchNorm2d(1024, eps=1e-05, momentum=0.1, affine=True, track_running_stats=True)\n",
       "      (relu): ReLU(inplace=True)\n",
       "      (downsample): Sequential(\n",
       "        (0): Conv2d(512, 1024, kernel_size=(1, 1), stride=(2, 2), bias=False)\n",
       "        (1): BatchNorm2d(1024, eps=1e-05, momentum=0.1, affine=True, track_running_stats=True)\n",
       "      )\n",
       "    )\n",
       "    (1): Bottleneck(\n",
       "      (conv1): Conv2d(1024, 256, kernel_size=(1, 1), stride=(1, 1), bias=False)\n",
       "      (bn1): BatchNorm2d(256, eps=1e-05, momentum=0.1, affine=True, track_running_stats=True)\n",
       "      (conv2): Conv2d(256, 256, kernel_size=(3, 3), stride=(1, 1), padding=(1, 1), bias=False)\n",
       "      (bn2): BatchNorm2d(256, eps=1e-05, momentum=0.1, affine=True, track_running_stats=True)\n",
       "      (conv3): Conv2d(256, 1024, kernel_size=(1, 1), stride=(1, 1), bias=False)\n",
       "      (bn3): BatchNorm2d(1024, eps=1e-05, momentum=0.1, affine=True, track_running_stats=True)\n",
       "      (relu): ReLU(inplace=True)\n",
       "    )\n",
       "    (2): Bottleneck(\n",
       "      (conv1): Conv2d(1024, 256, kernel_size=(1, 1), stride=(1, 1), bias=False)\n",
       "      (bn1): BatchNorm2d(256, eps=1e-05, momentum=0.1, affine=True, track_running_stats=True)\n",
       "      (conv2): Conv2d(256, 256, kernel_size=(3, 3), stride=(1, 1), padding=(1, 1), bias=False)\n",
       "      (bn2): BatchNorm2d(256, eps=1e-05, momentum=0.1, affine=True, track_running_stats=True)\n",
       "      (conv3): Conv2d(256, 1024, kernel_size=(1, 1), stride=(1, 1), bias=False)\n",
       "      (bn3): BatchNorm2d(1024, eps=1e-05, momentum=0.1, affine=True, track_running_stats=True)\n",
       "      (relu): ReLU(inplace=True)\n",
       "    )\n",
       "    (3): Bottleneck(\n",
       "      (conv1): Conv2d(1024, 256, kernel_size=(1, 1), stride=(1, 1), bias=False)\n",
       "      (bn1): BatchNorm2d(256, eps=1e-05, momentum=0.1, affine=True, track_running_stats=True)\n",
       "      (conv2): Conv2d(256, 256, kernel_size=(3, 3), stride=(1, 1), padding=(1, 1), bias=False)\n",
       "      (bn2): BatchNorm2d(256, eps=1e-05, momentum=0.1, affine=True, track_running_stats=True)\n",
       "      (conv3): Conv2d(256, 1024, kernel_size=(1, 1), stride=(1, 1), bias=False)\n",
       "      (bn3): BatchNorm2d(1024, eps=1e-05, momentum=0.1, affine=True, track_running_stats=True)\n",
       "      (relu): ReLU(inplace=True)\n",
       "    )\n",
       "    (4): Bottleneck(\n",
       "      (conv1): Conv2d(1024, 256, kernel_size=(1, 1), stride=(1, 1), bias=False)\n",
       "      (bn1): BatchNorm2d(256, eps=1e-05, momentum=0.1, affine=True, track_running_stats=True)\n",
       "      (conv2): Conv2d(256, 256, kernel_size=(3, 3), stride=(1, 1), padding=(1, 1), bias=False)\n",
       "      (bn2): BatchNorm2d(256, eps=1e-05, momentum=0.1, affine=True, track_running_stats=True)\n",
       "      (conv3): Conv2d(256, 1024, kernel_size=(1, 1), stride=(1, 1), bias=False)\n",
       "      (bn3): BatchNorm2d(1024, eps=1e-05, momentum=0.1, affine=True, track_running_stats=True)\n",
       "      (relu): ReLU(inplace=True)\n",
       "    )\n",
       "    (5): Bottleneck(\n",
       "      (conv1): Conv2d(1024, 256, kernel_size=(1, 1), stride=(1, 1), bias=False)\n",
       "      (bn1): BatchNorm2d(256, eps=1e-05, momentum=0.1, affine=True, track_running_stats=True)\n",
       "      (conv2): Conv2d(256, 256, kernel_size=(3, 3), stride=(1, 1), padding=(1, 1), bias=False)\n",
       "      (bn2): BatchNorm2d(256, eps=1e-05, momentum=0.1, affine=True, track_running_stats=True)\n",
       "      (conv3): Conv2d(256, 1024, kernel_size=(1, 1), stride=(1, 1), bias=False)\n",
       "      (bn3): BatchNorm2d(1024, eps=1e-05, momentum=0.1, affine=True, track_running_stats=True)\n",
       "      (relu): ReLU(inplace=True)\n",
       "    )\n",
       "  )\n",
       "  (layer4): Sequential(\n",
       "    (0): Bottleneck(\n",
       "      (conv1): Conv2d(1024, 512, kernel_size=(1, 1), stride=(1, 1), bias=False)\n",
       "      (bn1): BatchNorm2d(512, eps=1e-05, momentum=0.1, affine=True, track_running_stats=True)\n",
       "      (conv2): Conv2d(512, 512, kernel_size=(3, 3), stride=(2, 2), padding=(1, 1), bias=False)\n",
       "      (bn2): BatchNorm2d(512, eps=1e-05, momentum=0.1, affine=True, track_running_stats=True)\n",
       "      (conv3): Conv2d(512, 2048, kernel_size=(1, 1), stride=(1, 1), bias=False)\n",
       "      (bn3): BatchNorm2d(2048, eps=1e-05, momentum=0.1, affine=True, track_running_stats=True)\n",
       "      (relu): ReLU(inplace=True)\n",
       "      (downsample): Sequential(\n",
       "        (0): Conv2d(1024, 2048, kernel_size=(1, 1), stride=(2, 2), bias=False)\n",
       "        (1): BatchNorm2d(2048, eps=1e-05, momentum=0.1, affine=True, track_running_stats=True)\n",
       "      )\n",
       "    )\n",
       "    (1): Bottleneck(\n",
       "      (conv1): Conv2d(2048, 512, kernel_size=(1, 1), stride=(1, 1), bias=False)\n",
       "      (bn1): BatchNorm2d(512, eps=1e-05, momentum=0.1, affine=True, track_running_stats=True)\n",
       "      (conv2): Conv2d(512, 512, kernel_size=(3, 3), stride=(1, 1), padding=(1, 1), bias=False)\n",
       "      (bn2): BatchNorm2d(512, eps=1e-05, momentum=0.1, affine=True, track_running_stats=True)\n",
       "      (conv3): Conv2d(512, 2048, kernel_size=(1, 1), stride=(1, 1), bias=False)\n",
       "      (bn3): BatchNorm2d(2048, eps=1e-05, momentum=0.1, affine=True, track_running_stats=True)\n",
       "      (relu): ReLU(inplace=True)\n",
       "    )\n",
       "    (2): Bottleneck(\n",
       "      (conv1): Conv2d(2048, 512, kernel_size=(1, 1), stride=(1, 1), bias=False)\n",
       "      (bn1): BatchNorm2d(512, eps=1e-05, momentum=0.1, affine=True, track_running_stats=True)\n",
       "      (conv2): Conv2d(512, 512, kernel_size=(3, 3), stride=(1, 1), padding=(1, 1), bias=False)\n",
       "      (bn2): BatchNorm2d(512, eps=1e-05, momentum=0.1, affine=True, track_running_stats=True)\n",
       "      (conv3): Conv2d(512, 2048, kernel_size=(1, 1), stride=(1, 1), bias=False)\n",
       "      (bn3): BatchNorm2d(2048, eps=1e-05, momentum=0.1, affine=True, track_running_stats=True)\n",
       "      (relu): ReLU(inplace=True)\n",
       "    )\n",
       "  )\n",
       "  (avgpool): AdaptiveAvgPool2d(output_size=(1, 1))\n",
       "  (fc): Linear(in_features=2048, out_features=1000, bias=True)\n",
       ")"
      ]
     },
     "execution_count": 84,
     "metadata": {},
     "output_type": "execute_result"
    }
   ],
   "source": [
    "model = resnet50(weights=ResNet50_Weights.DEFAULT)\n",
    "model.requires_grad_(False)"
   ]
  },
  {
   "cell_type": "code",
   "execution_count": 89,
   "id": "8d0a5e01-9f55-4b77-8729-364945dbb098",
   "metadata": {},
   "outputs": [],
   "source": [
    "model.avgpool = nn.Identity()  # type: ignore\n",
    "model.fc = nn.Identity()  # type: ignore\n"
   ]
  },
  {
   "cell_type": "code",
   "execution_count": 90,
   "id": "e210935b-672e-4c3c-a4bf-389416594918",
   "metadata": {},
   "outputs": [],
   "source": [
    "output = model(image.unsqueeze(0))"
   ]
  },
  {
   "cell_type": "code",
   "execution_count": 91,
   "id": "71d654ef-1670-45bb-abfd-e1bee1a6c740",
   "metadata": {},
   "outputs": [
    {
     "data": {
      "text/plain": [
       "torch.Size([1, 100352])"
      ]
     },
     "execution_count": 91,
     "metadata": {},
     "output_type": "execute_result"
    }
   ],
   "source": [
    "output.shape"
   ]
  },
  {
   "cell_type": "code",
   "execution_count": 92,
   "id": "5450ab79-7b15-4fd8-a603-ab42bce304eb",
   "metadata": {},
   "outputs": [
    {
     "data": {
      "text/plain": [
       "torch.Size([3, 224, 224])"
      ]
     },
     "execution_count": 92,
     "metadata": {},
     "output_type": "execute_result"
    }
   ],
   "source": [
    "image.shape"
   ]
  },
  {
   "cell_type": "code",
   "execution_count": 94,
   "id": "88d82ada-aa5e-45f6-8a36-210e77c8bbd9",
   "metadata": {},
   "outputs": [],
   "source": [
    "image1 = torch.zeros([3, 448, 448])"
   ]
  },
  {
   "cell_type": "code",
   "execution_count": 95,
   "id": "e2a2046f-9cac-4f8b-9dd8-39cec3bdbc2c",
   "metadata": {},
   "outputs": [],
   "source": [
    "output1 = model(image1.unsqueeze(0))"
   ]
  },
  {
   "cell_type": "code",
   "execution_count": 96,
   "id": "018e77c8-47b8-462e-8795-f5fdd4cfa2ba",
   "metadata": {},
   "outputs": [
    {
     "data": {
      "text/plain": [
       "torch.Size([1, 401408])"
      ]
     },
     "execution_count": 96,
     "metadata": {},
     "output_type": "execute_result"
    }
   ],
   "source": [
    "output1.shape"
   ]
  },
  {
   "cell_type": "code",
   "execution_count": 97,
   "id": "d4df096b-cfc8-47a4-ad0f-28792786cc47",
   "metadata": {},
   "outputs": [],
   "source": [
    "a = torch.zeros([3 * 7 * 7])"
   ]
  },
  {
   "cell_type": "code",
   "execution_count": 99,
   "id": "c0dd1af5-e60e-4b3b-8bf7-97baf6c9d708",
   "metadata": {},
   "outputs": [],
   "source": [
    "b = torch.reshape(a, (-1, 3, 7, 7))"
   ]
  },
  {
   "cell_type": "code",
   "execution_count": 101,
   "id": "f766485e-2af5-45d2-b76c-749c62b35b66",
   "metadata": {},
   "outputs": [
    {
     "data": {
      "text/plain": [
       "torch.Size([1, 3, 7, 7])"
      ]
     },
     "execution_count": 101,
     "metadata": {},
     "output_type": "execute_result"
    }
   ],
   "source": [
    "b.shape"
   ]
  },
  {
   "cell_type": "code",
   "execution_count": 122,
   "id": "b456368e-dfc7-4d39-ae45-48c379103798",
   "metadata": {},
   "outputs": [],
   "source": [
    "model = DetectionModel()"
   ]
  },
  {
   "cell_type": "code",
   "execution_count": 126,
   "id": "366186a3-e1d9-4e2f-88f0-8d2629bddeec",
   "metadata": {},
   "outputs": [],
   "source": [
    "output = model(image.unsqueeze(0))"
   ]
  },
  {
   "cell_type": "code",
   "execution_count": 127,
   "id": "15961c26-f201-4a27-bf76-7d1328accbd3",
   "metadata": {},
   "outputs": [
    {
     "data": {
      "text/plain": [
       "torch.Size([1, 1])"
      ]
     },
     "execution_count": 127,
     "metadata": {},
     "output_type": "execute_result"
    }
   ],
   "source": [
    "output.shape"
   ]
  },
  {
   "cell_type": "code",
   "execution_count": 118,
   "id": "c771103f-fe16-40b5-9684-9726165899c0",
   "metadata": {},
   "outputs": [],
   "source": [
    "from torch import nn"
   ]
  },
  {
   "cell_type": "code",
   "execution_count": 128,
   "id": "8b7f1782-0000-4c39-b5b8-b46d917419c3",
   "metadata": {},
   "outputs": [
    {
     "data": {
      "text/plain": [
       "tensor([[0.0172]], grad_fn=<AddmmBackward0>)"
      ]
     },
     "execution_count": 128,
     "metadata": {},
     "output_type": "execute_result"
    }
   ],
   "source": [
    "output"
   ]
  },
  {
   "cell_type": "code",
   "execution_count": 120,
   "id": "75a11980-cd47-48a5-b6c0-1164d66c6afa",
   "metadata": {},
   "outputs": [
    {
     "data": {
      "text/plain": [
       "tensor([[0.4944]], grad_fn=<SigmoidBackward0>)"
      ]
     },
     "execution_count": 120,
     "metadata": {},
     "output_type": "execute_result"
    }
   ],
   "source": [
    "nn.Sigmoid()(output)"
   ]
  },
  {
   "cell_type": "code",
   "execution_count": 129,
   "id": "b41bbcde-2a77-4e14-82f1-b8e7b2173c3d",
   "metadata": {},
   "outputs": [],
   "source": [
    "target = torch.empty(3, dtype=torch.long).random_(5)"
   ]
  },
  {
   "cell_type": "code",
   "execution_count": 130,
   "id": "73c4dadf-bdb1-40c3-a2e0-db6b7f7985af",
   "metadata": {},
   "outputs": [
    {
     "data": {
      "text/plain": [
       "tensor([2, 4, 3])"
      ]
     },
     "execution_count": 130,
     "metadata": {},
     "output_type": "execute_result"
    }
   ],
   "source": [
    "target"
   ]
  },
  {
   "cell_type": "code",
   "execution_count": 188,
   "id": "48670536-81f4-481d-aaeb-e7846b7b2ce3",
   "metadata": {},
   "outputs": [],
   "source": [
    "from torcheval.metrics import MulticlassAccuracy, MulticlassPrecision, MulticlassRecall, MulticlassF1Score\n",
    "\n",
    "# For multiclass classification\n",
    "accuracy_metric = MulticlassAccuracy(num_classes=2, average=\"micro\")\n",
    "precision_metric = MulticlassPrecision(num_classes=2, average=None)\n",
    "recall_metric = MulticlassRecall(num_classes=2, average=None)\n",
    "f1_metric = MulticlassF1Score(num_classes=2, average=None)"
   ]
  },
  {
   "cell_type": "code",
   "execution_count": 189,
   "id": "fc1fd0e7-59d5-4ce8-bd43-f5aae95352e3",
   "metadata": {},
   "outputs": [
    {
     "data": {
      "text/plain": [
       "<torcheval.metrics.classification.f1_score.MulticlassF1Score at 0x322e15510>"
      ]
     },
     "execution_count": 189,
     "metadata": {},
     "output_type": "execute_result"
    }
   ],
   "source": [
    "# accuracy_metric.update(torch.tensor([0, 0]), torch.tensor([1, 0]))\n",
    "accuracy_metric.update(torch.tensor([0, 1, 1, 0]), torch.tensor([1, 0, 0, 0]))\n",
    "precision_metric.update(torch.tensor([0, 1, 1, 0]), torch.tensor([1, 0, 0, 0]))\n",
    "recall_metric.update(torch.tensor([0, 1, 1, 0]), torch.tensor([1, 0, 0, 0]))\n",
    "f1_metric.update(torch.tensor([0, 1, 1, 0]), torch.tensor([1, 0, 0, 0]))"
   ]
  },
  {
   "cell_type": "code",
   "execution_count": 190,
   "id": "573381fb-4949-4169-8be8-e0e28a8355eb",
   "metadata": {},
   "outputs": [],
   "source": [
    "accuracy = accuracy_metric.compute()\n",
    "precision = precision_metric.compute()\n",
    "recall = recall_metric.compute()\n",
    "f1 = f1_metric.compute()"
   ]
  },
  {
   "cell_type": "code",
   "execution_count": 191,
   "id": "082666e0-894e-4547-b53b-719b31d5098a",
   "metadata": {},
   "outputs": [
    {
     "data": {
      "text/plain": [
       "(tensor(0.2500),\n",
       " tensor([0.5000, 0.0000]),\n",
       " tensor([0.3333, 0.0000]),\n",
       " tensor([0.4000, 0.0000]))"
      ]
     },
     "execution_count": 191,
     "metadata": {},
     "output_type": "execute_result"
    }
   ],
   "source": [
    "accuracy, precision, recall, f1"
   ]
  },
  {
   "cell_type": "code",
   "execution_count": 169,
   "id": "7cf213c3-8d32-45ee-93b6-c6d84f036a71",
   "metadata": {},
   "outputs": [
    {
     "data": {
      "text/plain": [
       "0.5"
      ]
     },
     "execution_count": 169,
     "metadata": {},
     "output_type": "execute_result"
    }
   ],
   "source": [
    "output.item()"
   ]
  },
  {
   "cell_type": "code",
   "execution_count": 170,
   "id": "757fc560-5ff1-4ce7-b09f-e508ac98108d",
   "metadata": {},
   "outputs": [
    {
     "name": "stdout",
     "output_type": "stream",
     "text": [
      "Collecting torcheval\n",
      "  Downloading torcheval-0.0.7-py3-none-any.whl.metadata (8.6 kB)\n",
      "Requirement already satisfied: typing-extensions in /Users/yzhang/miniconda3/envs/data/lib/python3.11/site-packages (from torcheval) (4.12.2)\n",
      "Downloading torcheval-0.0.7-py3-none-any.whl (179 kB)\n",
      "\u001b[2K   \u001b[90m━━━━━━━━━━━━━━━━━━━━━━━━━━━━━━━━━━━━━━━━\u001b[0m \u001b[32m179.2/179.2 kB\u001b[0m \u001b[31m4.3 MB/s\u001b[0m eta \u001b[36m0:00:00\u001b[0ma \u001b[36m0:00:01\u001b[0m\n",
      "\u001b[?25hInstalling collected packages: torcheval\n",
      "Successfully installed torcheval-0.0.7\n",
      "Note: you may need to restart the kernel to use updated packages.\n"
     ]
    }
   ],
   "source": [
    "pip install torcheval"
   ]
  },
  {
   "cell_type": "code",
   "execution_count": 195,
   "id": "b5596fa0-59ce-49d4-b851-0bafb77edc5f",
   "metadata": {},
   "outputs": [
    {
     "name": "stderr",
     "output_type": "stream",
     "text": [
      "WARNING:root:tensor([[1]]) classes have zero instances in both the predictions and the ground truth labels. Precision is still logged as zero.\n"
     ]
    },
    {
     "data": {
      "text/plain": [
       "tensor([1., 0.])"
      ]
     },
     "execution_count": 195,
     "metadata": {},
     "output_type": "execute_result"
    }
   ],
   "source": [
    "metric = MulticlassPrecision(num_classes=2, average=None)\n",
    "input = torch.tensor([0])\n",
    "target = torch.tensor([0])\n",
    "metric.update(input, target)\n",
    "metric.compute()"
   ]
  },
  {
   "cell_type": "code",
   "execution_count": 205,
   "id": "597a6ddd-c4fe-4268-8434-b7bdac91ba81",
   "metadata": {},
   "outputs": [
    {
     "data": {
      "text/plain": [
       "5216"
      ]
     },
     "execution_count": 205,
     "metadata": {},
     "output_type": "execute_result"
    }
   ],
   "source": [
    "len(train_dataset)"
   ]
  },
  {
   "cell_type": "code",
   "execution_count": 208,
   "id": "1f5460f7-cf22-4468-a903-efe28d5e870a",
   "metadata": {},
   "outputs": [],
   "source": [
    "import os\n",
    "curr_best_path = \"trained/epoch_0/\"\n",
    "os.makedirs(os.path.dirname(curr_best_path), exist_ok=True)"
   ]
  },
  {
   "cell_type": "code",
   "execution_count": 209,
   "id": "cc885597-a895-4135-afab-1c5f67624a55",
   "metadata": {},
   "outputs": [],
   "source": [
    "pretrained_path = \"trained/epoch_1/\""
   ]
  },
  {
   "cell_type": "code",
   "execution_count": 210,
   "id": "a3009896-9af6-4e3e-8f18-6ea202ab8ec5",
   "metadata": {},
   "outputs": [],
   "source": [
    "model = torch.load(f\"{pretrained_path}model.pth\", weights_only=False)"
   ]
  },
  {
   "cell_type": "code",
   "execution_count": 211,
   "id": "1890d7f3-1e52-4c3e-92e7-ea1f95aa45b2",
   "metadata": {},
   "outputs": [],
   "source": [
    "model.eval()"
   ]
  },
  {
   "cell_type": "code",
   "execution_count": 214,
   "id": "27fdd80d-bf11-442c-b379-0708fc0c946a",
   "metadata": {},
   "outputs": [],
   "source": [
    "output = model(image.unsqueeze(0))"
   ]
  },
  {
   "cell_type": "code",
   "execution_count": 216,
   "id": "17442d74-91ad-43f2-9ad4-6ac62d2bd604",
   "metadata": {},
   "outputs": [
    {
     "data": {
      "text/plain": [
       "tensor([0])"
      ]
     },
     "execution_count": 216,
     "metadata": {},
     "output_type": "execute_result"
    }
   ],
   "source": [
    "torch.argmax(output, dim=1)"
   ]
  },
  {
   "cell_type": "code",
   "execution_count": 218,
   "id": "1645e87d-ee8c-443a-bcd0-0723c556859d",
   "metadata": {},
   "outputs": [
    {
     "data": {
      "text/plain": [
       "1"
      ]
     },
     "execution_count": 218,
     "metadata": {},
     "output_type": "execute_result"
    }
   ],
   "source": [
    "torch.tensor(1).item()"
   ]
  },
  {
   "cell_type": "code",
   "execution_count": 221,
   "id": "f5f583ec-83c2-440e-9f78-1cfa0cd7147e",
   "metadata": {},
   "outputs": [],
   "source": [
    "import yaml"
   ]
  },
  {
   "cell_type": "code",
   "execution_count": 219,
   "id": "b15fde99-ef22-4eba-9a7b-dcb0c95291a8",
   "metadata": {},
   "outputs": [],
   "source": [
    "config_path = \"experiments/configs/adam-1e4-64.yaml\""
   ]
  },
  {
   "cell_type": "code",
   "execution_count": 250,
   "id": "c667e05f-f95c-4f59-baf6-544d7e5192fe",
   "metadata": {},
   "outputs": [],
   "source": [
    "with open(config_path, \"r\") as f:\n",
    "        config = yaml.safe_load(f)"
   ]
  },
  {
   "cell_type": "code",
   "execution_count": 251,
   "id": "b14a58f5-5f7f-4dd8-b7f3-e81fb6528d62",
   "metadata": {},
   "outputs": [
    {
     "data": {
      "text/plain": [
       "{'batch_size': 64,\n",
       " 'epochs': 10,\n",
       " 'learning_rate': '1e-4',\n",
       " 'optimizer_name': 'Adam',\n",
       " 'augment': True,\n",
       " 'max_samples': 8}"
      ]
     },
     "execution_count": 251,
     "metadata": {},
     "output_type": "execute_result"
    }
   ],
   "source": [
    "config"
   ]
  },
  {
   "cell_type": "code",
   "execution_count": 225,
   "id": "82ff76b6-ac76-4c91-b8ad-6be629ce1442",
   "metadata": {},
   "outputs": [],
   "source": [
    "optimizer_class = getattr(torch.optim, \"Adam\")"
   ]
  },
  {
   "cell_type": "code",
   "execution_count": 226,
   "id": "9c019bf8-c20e-4ab9-9384-17176b472f31",
   "metadata": {},
   "outputs": [
    {
     "ename": "ValueError",
     "evalue": "optimizer got an empty parameter list",
     "output_type": "error",
     "traceback": [
      "\u001b[0;31m---------------------------------------------------------------------------\u001b[0m",
      "\u001b[0;31mValueError\u001b[0m                                Traceback (most recent call last)",
      "Cell \u001b[0;32mIn[226], line 1\u001b[0m\n\u001b[0;32m----> 1\u001b[0m optimizer \u001b[38;5;241m=\u001b[39m \u001b[43moptimizer_class\u001b[49m\u001b[43m(\u001b[49m\u001b[43m[\u001b[49m\u001b[43m]\u001b[49m\u001b[43m,\u001b[49m\u001b[43m \u001b[49m\u001b[43mlr\u001b[49m\u001b[38;5;241;43m=\u001b[39;49m\u001b[38;5;241;43m1e-4\u001b[39;49m\u001b[43m)\u001b[49m\n",
      "File \u001b[0;32m~/miniconda3/envs/data/lib/python3.11/site-packages/torch/optim/adam.py:99\u001b[0m, in \u001b[0;36mAdam.__init__\u001b[0;34m(self, params, lr, betas, eps, weight_decay, amsgrad, foreach, maximize, capturable, differentiable, fused)\u001b[0m\n\u001b[1;32m     85\u001b[0m         \u001b[38;5;28;01mraise\u001b[39;00m \u001b[38;5;167;01mValueError\u001b[39;00m(\u001b[38;5;124m\"\u001b[39m\u001b[38;5;124mTensor betas[1] must be 1-element\u001b[39m\u001b[38;5;124m\"\u001b[39m)\n\u001b[1;32m     87\u001b[0m defaults \u001b[38;5;241m=\u001b[39m \u001b[38;5;28mdict\u001b[39m(\n\u001b[1;32m     88\u001b[0m     lr\u001b[38;5;241m=\u001b[39mlr,\n\u001b[1;32m     89\u001b[0m     betas\u001b[38;5;241m=\u001b[39mbetas,\n\u001b[0;32m   (...)\u001b[0m\n\u001b[1;32m     97\u001b[0m     fused\u001b[38;5;241m=\u001b[39mfused,\n\u001b[1;32m     98\u001b[0m )\n\u001b[0;32m---> 99\u001b[0m \u001b[38;5;28;43msuper\u001b[39;49m\u001b[43m(\u001b[49m\u001b[43m)\u001b[49m\u001b[38;5;241;43m.\u001b[39;49m\u001b[38;5;21;43m__init__\u001b[39;49m\u001b[43m(\u001b[49m\u001b[43mparams\u001b[49m\u001b[43m,\u001b[49m\u001b[43m \u001b[49m\u001b[43mdefaults\u001b[49m\u001b[43m)\u001b[49m\n\u001b[1;32m    101\u001b[0m \u001b[38;5;28;01mif\u001b[39;00m fused:\n\u001b[1;32m    102\u001b[0m     \u001b[38;5;28;01mif\u001b[39;00m differentiable:\n",
      "File \u001b[0;32m~/miniconda3/envs/data/lib/python3.11/site-packages/torch/optim/optimizer.py:372\u001b[0m, in \u001b[0;36mOptimizer.__init__\u001b[0;34m(self, params, defaults)\u001b[0m\n\u001b[1;32m    370\u001b[0m param_groups \u001b[38;5;241m=\u001b[39m \u001b[38;5;28mlist\u001b[39m(params)\n\u001b[1;32m    371\u001b[0m \u001b[38;5;28;01mif\u001b[39;00m \u001b[38;5;28mlen\u001b[39m(param_groups) \u001b[38;5;241m==\u001b[39m \u001b[38;5;241m0\u001b[39m:\n\u001b[0;32m--> 372\u001b[0m     \u001b[38;5;28;01mraise\u001b[39;00m \u001b[38;5;167;01mValueError\u001b[39;00m(\u001b[38;5;124m\"\u001b[39m\u001b[38;5;124moptimizer got an empty parameter list\u001b[39m\u001b[38;5;124m\"\u001b[39m)\n\u001b[1;32m    373\u001b[0m \u001b[38;5;28;01mif\u001b[39;00m \u001b[38;5;129;01mnot\u001b[39;00m \u001b[38;5;28misinstance\u001b[39m(param_groups[\u001b[38;5;241m0\u001b[39m], \u001b[38;5;28mdict\u001b[39m):\n\u001b[1;32m    374\u001b[0m     param_groups \u001b[38;5;241m=\u001b[39m [{\u001b[38;5;124m\"\u001b[39m\u001b[38;5;124mparams\u001b[39m\u001b[38;5;124m\"\u001b[39m: param_groups}]\n",
      "\u001b[0;31mValueError\u001b[0m: optimizer got an empty parameter list"
     ]
    }
   ],
   "source": [
    "optimizer = optimizer_class([], lr=1e-4)"
   ]
  },
  {
   "cell_type": "code",
   "execution_count": 227,
   "id": "532d09fd-8bec-4403-bb61-ecac4a09e925",
   "metadata": {},
   "outputs": [
    {
     "data": {
      "text/plain": [
       "torch.optim.adam.Adam"
      ]
     },
     "execution_count": 227,
     "metadata": {},
     "output_type": "execute_result"
    }
   ],
   "source": [
    "optimizer_class"
   ]
  },
  {
   "cell_type": "code",
   "execution_count": 228,
   "id": "42fae997-019f-4d96-a44f-136ad259ad48",
   "metadata": {},
   "outputs": [],
   "source": [
    "optimizer_class = torch.optim.Adam"
   ]
  },
  {
   "cell_type": "code",
   "execution_count": 229,
   "id": "d4971351-913c-4a5b-b206-69e1cf4c2780",
   "metadata": {},
   "outputs": [
    {
     "data": {
      "text/plain": [
       "torch.optim.adam.Adam"
      ]
     },
     "execution_count": 229,
     "metadata": {},
     "output_type": "execute_result"
    }
   ],
   "source": [
    "optimizer_class"
   ]
  },
  {
   "cell_type": "code",
   "execution_count": 256,
   "id": "6d0947e7-3c50-4f56-a333-2fb8ffc2c4fe",
   "metadata": {},
   "outputs": [],
   "source": [
    "def f(\n",
    "    epochs=1,\n",
    "    batch_size=32,\n",
    "    learning_rate=0.001,\n",
    "    save_epochs=1,\n",
    "    save_base_folder=\"trained/\",\n",
    "    **kwargs\n",
    "):\n",
    "    print(batch_size, learning_rate)\n",
    "    print(kwargs)"
   ]
  },
  {
   "cell_type": "code",
   "execution_count": 257,
   "id": "f202bcfe-e710-404a-a8a6-f9525c0b6e5d",
   "metadata": {},
   "outputs": [
    {
     "name": "stdout",
     "output_type": "stream",
     "text": [
      "64 1e-4\n",
      "{'optimizer_name': 'Adam', 'augment': True, 'max_samples': 8}\n"
     ]
    }
   ],
   "source": [
    "f(**config)"
   ]
  },
  {
   "cell_type": "code",
   "execution_count": null,
   "id": "f4235c57-9cc2-44b2-b87f-9ab8221c6343",
   "metadata": {},
   "outputs": [],
   "source": []
  }
 ],
 "metadata": {
  "kernelspec": {
   "display_name": "Python 3 (ipykernel)",
   "language": "python",
   "name": "python3"
  },
  "language_info": {
   "codemirror_mode": {
    "name": "ipython",
    "version": 3
   },
   "file_extension": ".py",
   "mimetype": "text/x-python",
   "name": "python",
   "nbconvert_exporter": "python",
   "pygments_lexer": "ipython3",
   "version": "3.11.9"
  }
 },
 "nbformat": 4,
 "nbformat_minor": 5
}
