{
 "cells": [
  {
   "cell_type": "code",
   "execution_count": null,
   "id": "6a37a40a-b396-4bd2-9544-435e2125a60f",
   "metadata": {},
   "outputs": [],
   "source": [
    "--pretrained_path=trained/epoch_2/ \\"
   ]
  },
  {
   "cell_type": "code",
   "execution_count": 25,
   "id": "3883c6aa-112d-475c-91cb-500e2c1086ec",
   "metadata": {},
   "outputs": [
    {
     "name": "stderr",
     "output_type": "stream",
     "text": [
      "python3.11(31569) MallocStackLogging: can't turn off malloc stack logging because it was not enabled.\n"
     ]
    },
    {
     "name": "stdout",
     "output_type": "stream",
     "text": [
      "epochs 10\n",
      "batch_size 2\n",
      "learning_rate 0.0001\n",
      "save_epochs 1\n",
      "eval_epochs 1\n",
      "save_base_folder trained/\n",
      "max_samples 8\n",
      "pretrained_path None\n",
      "device cpu\n",
      "train num batches 4\n",
      "eval num batches 4\n",
      "metrics json not found\n",
      "\n",
      "Start training...\n",
      "\n",
      "\n",
      "Epoch: 0\n",
      "100%|█████████████████████████████████████████████| 4/4 [00:02<00:00,  2.10it/s]WARNING:root:tensor([[1]]) classes have zero instances in both the predictions and the ground truth labels. Precision is still logged as zero.\n",
      "WARNING:root:One or more NaNs identified, as no ground-truth instances of [1] have been seen. These have been converted to zero.\n",
      "\n",
      "Epoch: 1\n",
      "100%|█████████████████████████████████████████████| 4/4 [00:01<00:00,  2.47it/s]WARNING:root:tensor([[1]]) classes have zero instances in both the predictions and the ground truth labels. Precision is still logged as zero.\n",
      "WARNING:root:One or more NaNs identified, as no ground-truth instances of [1] have been seen. These have been converted to zero.\n",
      "\n",
      "Epoch: 2\n",
      "100%|█████████████████████████████████████████████| 4/4 [00:01<00:00,  2.30it/s]WARNING:root:tensor([[1]]) classes have zero instances in both the predictions and the ground truth labels. Precision is still logged as zero.\n",
      "WARNING:root:One or more NaNs identified, as no ground-truth instances of [1] have been seen. These have been converted to zero.\n",
      "\n",
      "Epoch: 3\n",
      "100%|█████████████████████████████████████████████| 4/4 [00:01<00:00,  3.45it/s]WARNING:root:tensor([[1]]) classes have zero instances in both the predictions and the ground truth labels. Precision is still logged as zero.\n",
      "WARNING:root:One or more NaNs identified, as no ground-truth instances of [1] have been seen. These have been converted to zero.\n",
      "\n",
      "Epoch: 4\n",
      "100%|█████████████████████████████████████████████| 4/4 [00:01<00:00,  3.35it/s]WARNING:root:tensor([[1]]) classes have zero instances in both the predictions and the ground truth labels. Precision is still logged as zero.\n",
      "WARNING:root:One or more NaNs identified, as no ground-truth instances of [1] have been seen. These have been converted to zero.\n",
      "\n",
      "Epoch: 5\n",
      "100%|█████████████████████████████████████████████| 4/4 [00:01<00:00,  3.40it/s]WARNING:root:tensor([[1]]) classes have zero instances in both the predictions and the ground truth labels. Precision is still logged as zero.\n",
      "WARNING:root:One or more NaNs identified, as no ground-truth instances of [1] have been seen. These have been converted to zero.\n",
      "\n",
      "Epoch: 6\n",
      "100%|█████████████████████████████████████████████| 4/4 [00:01<00:00,  3.64it/s]WARNING:root:tensor([[1]]) classes have zero instances in both the predictions and the ground truth labels. Precision is still logged as zero.\n",
      "WARNING:root:One or more NaNs identified, as no ground-truth instances of [1] have been seen. These have been converted to zero.\n",
      "\n",
      "Epoch: 7\n",
      "100%|█████████████████████████████████████████████| 4/4 [00:01<00:00,  3.80it/s]WARNING:root:tensor([[1]]) classes have zero instances in both the predictions and the ground truth labels. Precision is still logged as zero.\n",
      "WARNING:root:One or more NaNs identified, as no ground-truth instances of [1] have been seen. These have been converted to zero.\n",
      "\n",
      "Epoch: 8\n",
      "100%|█████████████████████████████████████████████| 4/4 [00:01<00:00,  4.07it/s]WARNING:root:tensor([[1]]) classes have zero instances in both the predictions and the ground truth labels. Precision is still logged as zero.\n",
      "WARNING:root:One or more NaNs identified, as no ground-truth instances of [1] have been seen. These have been converted to zero.\n",
      "\n",
      "Epoch: 9\n",
      "100%|█████████████████████████████████████████████| 4/4 [00:00<00:00,  4.14it/s]WARNING:root:tensor([[1]]) classes have zero instances in both the predictions and the ground truth labels. Precision is still logged as zero.\n",
      "WARNING:root:One or more NaNs identified, as no ground-truth instances of [1] have been seen. These have been converted to zero.\n",
      "\n",
      "End training\n",
      "\n",
      "                                                                                \r"
     ]
    }
   ],
   "source": [
    "!python train.py --save_base_folder=trained/ \\\n",
    "--epochs=10 --batch_size=2 \\\n",
    "--save_epochs=1 --eval_epochs=1 \\\n",
    "--max_samples=8"
   ]
  },
  {
   "cell_type": "code",
   "execution_count": 24,
   "id": "7a3390e5-96d8-4238-97b7-fc61c27b01d1",
   "metadata": {},
   "outputs": [
    {
     "name": "stderr",
     "output_type": "stream",
     "text": [
      "python3.11(30119) MallocStackLogging: can't turn off malloc stack logging because it was not enabled.\n"
     ]
    },
    {
     "name": "stdout",
     "output_type": "stream",
     "text": [
      "\u001b[32mINFO\u001b[0m:     Uvicorn running on \u001b[1mhttp://127.0.0.1:5000\u001b[0m (Press CTRL+C to quit)\n",
      "\u001b[32mINFO\u001b[0m:     Started parent process [\u001b[36m\u001b[1m30162\u001b[0m]\n",
      "\u001b[32mINFO\u001b[0m:     Started server process [\u001b[36m30167\u001b[0m]\n",
      "\u001b[32mINFO\u001b[0m:     Started server process [\u001b[36m30165\u001b[0m]\n",
      "\u001b[32mINFO\u001b[0m:     Waiting for application startup.\n",
      "\u001b[32mINFO\u001b[0m:     Waiting for application startup.\n",
      "\u001b[32mINFO\u001b[0m:     Started server process [\u001b[36m30166\u001b[0m]\n",
      "\u001b[32mINFO\u001b[0m:     Waiting for application startup.\n",
      "\u001b[32mINFO\u001b[0m:     Application startup complete.\n",
      "\u001b[32mINFO\u001b[0m:     Application startup complete.\n",
      "\u001b[32mINFO\u001b[0m:     Application startup complete.\n",
      "\u001b[32mINFO\u001b[0m:     Started server process [\u001b[36m30164\u001b[0m]\n",
      "\u001b[32mINFO\u001b[0m:     Waiting for application startup.\n",
      "\u001b[32mINFO\u001b[0m:     Application startup complete.\n",
      "\u001b[32mINFO\u001b[0m:     127.0.0.1:56937 - \"\u001b[1mGET / HTTP/1.1\u001b[0m\" \u001b[32m200 OK\u001b[0m\n",
      "\u001b[32mINFO\u001b[0m:     127.0.0.1:56937 - \"\u001b[1mGET /static-files/static/js/main.afd6eeec.js HTTP/1.1\u001b[0m\" \u001b[32m200 OK\u001b[0m\n",
      "\u001b[32mINFO\u001b[0m:     127.0.0.1:56949 - \"\u001b[1mGET /static-files/static/css/main.702595df.css HTTP/1.1\u001b[0m\" \u001b[32m200 OK\u001b[0m\n",
      "\u001b[32mINFO\u001b[0m:     127.0.0.1:56937 - \"\u001b[1mGET /static-files/static/js/9478.cbf55ef3.chunk.js HTTP/1.1\u001b[0m\" \u001b[32m200 OK\u001b[0m\n",
      "\u001b[32mINFO\u001b[0m:     127.0.0.1:56949 - \"\u001b[1mGET /static-files/static/js/6991.0e98e62b.chunk.js HTTP/1.1\u001b[0m\" \u001b[32m200 OK\u001b[0m\n",
      "\u001b[32mINFO\u001b[0m:     127.0.0.1:56937 - \"\u001b[1mGET /static-files/static/js/618.c43acc34.chunk.js HTTP/1.1\u001b[0m\" \u001b[32m200 OK\u001b[0m\n",
      "\u001b[32mINFO\u001b[0m:     127.0.0.1:56965 - \"\u001b[1mGET /static-files/static/js/3044.833a108e.chunk.js HTTP/1.1\u001b[0m\" \u001b[32m200 OK\u001b[0m\n",
      "\u001b[32mINFO\u001b[0m:     127.0.0.1:56964 - \"\u001b[1mGET /static-files/static/css/3044.41bf106c.chunk.css HTTP/1.1\u001b[0m\" \u001b[32m200 OK\u001b[0m\n",
      "\u001b[32mINFO\u001b[0m:     127.0.0.1:56965 - \"\u001b[1mGET /static-files/favicon.ico HTTP/1.1\u001b[0m\" \u001b[32m200 OK\u001b[0m\n",
      "\u001b[32mINFO\u001b[0m:     127.0.0.1:56937 - \"\u001b[1mGET /static-files/manifest.json HTTP/1.1\u001b[0m\" \u001b[32m200 OK\u001b[0m\n",
      "\u001b[32mINFO\u001b[0m:     127.0.0.1:56964 - \"\u001b[1mGET /ajax-api/2.0/mlflow/experiments/search?max_results=25&order_by=last_update_time+DESC HTTP/1.1\u001b[0m\" \u001b[32m200 OK\u001b[0m\n",
      "\u001b[32mINFO\u001b[0m:     127.0.0.1:57392 - \"\u001b[1mGET /ajax-api/2.0/mlflow/experiments/search?max_results=25&order_by=last_update_time+DESC HTTP/1.1\u001b[0m\" \u001b[32m200 OK\u001b[0m\n",
      "^C\n",
      "\u001b[32mINFO\u001b[0m:     Shutting down\n",
      "\u001b[32mINFO\u001b[0m:     Shutting down\n",
      "\u001b[32mINFO\u001b[0m:     Shutting down\n",
      "\u001b[32mINFO\u001b[0m:     Shutting down\n",
      "\u001b[32mINFO\u001b[0m:     Received SIGINT, exiting.\n",
      "\u001b[32mINFO\u001b[0m:     Terminated child process [30164]\n",
      "\u001b[32mINFO\u001b[0m:     Terminated child process [30165]\n",
      "\u001b[32mINFO\u001b[0m:     Terminated child process [30166]\n",
      "\u001b[32mINFO\u001b[0m:     Terminated child process [30167]\n",
      "\u001b[32mINFO\u001b[0m:     Waiting for child process [30164]\n",
      "\u001b[32mINFO\u001b[0m:     Waiting for application shutdown.\n",
      "\u001b[32mINFO\u001b[0m:     Application shutdown complete.\n",
      "\u001b[32mINFO\u001b[0m:     Finished server process [\u001b[36m30166\u001b[0m]\n",
      "\u001b[32mINFO\u001b[0m:     Waiting for application shutdown.\n",
      "\u001b[32mINFO\u001b[0m:     Application shutdown complete.\n",
      "\u001b[32mINFO\u001b[0m:     Finished server process [\u001b[36m30164\u001b[0m]\n",
      "\u001b[32mINFO\u001b[0m:     Waiting for application shutdown.\n",
      "\u001b[32mINFO\u001b[0m:     Application shutdown complete.\n",
      "\u001b[32mINFO\u001b[0m:     Finished server process [\u001b[36m30167\u001b[0m]\n",
      "\u001b[32mINFO\u001b[0m:     Waiting for application shutdown.\n",
      "\u001b[32mINFO\u001b[0m:     Waiting for child process [30165]\n",
      "\u001b[32mINFO\u001b[0m:     Application shutdown complete.\n",
      "\u001b[32mINFO\u001b[0m:     Finished server process [\u001b[36m30165\u001b[0m]\n"
     ]
    }
   ],
   "source": []
  },
  {
   "cell_type": "code",
   "execution_count": null,
   "id": "18ee46d3-13fb-4d41-9b55-54097edd16d1",
   "metadata": {},
   "outputs": [],
   "source": []
  }
 ],
 "metadata": {
  "kernelspec": {
   "display_name": "Python 3 (ipykernel)",
   "language": "python",
   "name": "python3"
  },
  "language_info": {
   "codemirror_mode": {
    "name": "ipython",
    "version": 3
   },
   "file_extension": ".py",
   "mimetype": "text/x-python",
   "name": "python",
   "nbconvert_exporter": "python",
   "pygments_lexer": "ipython3",
   "version": "3.11.9"
  }
 },
 "nbformat": 4,
 "nbformat_minor": 5
}
