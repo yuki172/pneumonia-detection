{
 "cells": [
  {
   "cell_type": "code",
   "execution_count": null,
   "id": "6a37a40a-b396-4bd2-9544-435e2125a60f",
   "metadata": {},
   "outputs": [],
   "source": [
    "--pretrained_path=trained/epoch_2/ \\"
   ]
  },
  {
   "cell_type": "code",
   "execution_count": 9,
   "id": "3883c6aa-112d-475c-91cb-500e2c1086ec",
   "metadata": {},
   "outputs": [
    {
     "name": "stdout",
     "output_type": "stream",
     "text": [
      "epochs 10\n",
      "batch_size 64\n",
      "learning_rate 0.0001\n",
      "save_epochs 1\n",
      "eval_epochs 1\n",
      "save_base_folder trained/\n",
      "max_samples None\n",
      "pretrained_path None\n",
      "device cpu\n",
      "train num batches 82\n",
      "eval num batches 1\n",
      "metrics json not found\n",
      "\n",
      "Start training...\n",
      "\n",
      "\n",
      "Epoch: 0\n",
      " 35%|███████████████▏                           | 29/82 [06:15<12:10, 13.79s/it]^C\n",
      "Traceback (most recent call last):\n",
      "  File \"/Users/yzhang/b/pneumonia-detection/train.py\", line 259, in <module>\n",
      "    train(\n",
      "  File \"/Users/yzhang/b/pneumonia-detection/train.py\", line 184, in train\n",
      "    predictions = model.forward(data)\n",
      "                  ^^^^^^^^^^^^^^^^^^^\n",
      "  File \"/Users/yzhang/b/pneumonia-detection/model/DetectionModel.py\", line 48, in forward\n",
      "    return self.model(x)\n",
      "           ^^^^^^^^^^^^^\n",
      "  File \"/Users/yzhang/miniconda3/envs/data/lib/python3.11/site-packages/torch/nn/modules/module.py\", line 1739, in _wrapped_call_impl\n",
      "    return self._call_impl(*args, **kwargs)\n",
      "           ^^^^^^^^^^^^^^^^^^^^^^^^^^^^^^^^\n",
      "  File \"/Users/yzhang/miniconda3/envs/data/lib/python3.11/site-packages/torch/nn/modules/module.py\", line 1750, in _call_impl\n",
      "    return forward_call(*args, **kwargs)\n",
      "           ^^^^^^^^^^^^^^^^^^^^^^^^^^^^^\n",
      "  File \"/Users/yzhang/miniconda3/envs/data/lib/python3.11/site-packages/torch/nn/modules/container.py\", line 250, in forward\n",
      "    input = module(input)\n",
      "            ^^^^^^^^^^^^^\n",
      "  File \"/Users/yzhang/miniconda3/envs/data/lib/python3.11/site-packages/torch/nn/modules/module.py\", line 1739, in _wrapped_call_impl\n",
      "    return self._call_impl(*args, **kwargs)\n",
      "           ^^^^^^^^^^^^^^^^^^^^^^^^^^^^^^^^\n",
      "  File \"/Users/yzhang/miniconda3/envs/data/lib/python3.11/site-packages/torch/nn/modules/module.py\", line 1750, in _call_impl\n",
      "    return forward_call(*args, **kwargs)\n",
      "           ^^^^^^^^^^^^^^^^^^^^^^^^^^^^^\n",
      "  File \"/Users/yzhang/b/pneumonia-detection/model/base_layer.py\", line 19, in forward\n",
      "    return self.model.forward(x)\n",
      "           ^^^^^^^^^^^^^^^^^^^^^\n",
      "  File \"/Users/yzhang/miniconda3/envs/data/lib/python3.11/site-packages/torchvision/models/resnet.py\", line 285, in forward\n",
      "    return self._forward_impl(x)\n",
      "           ^^^^^^^^^^^^^^^^^^^^^\n",
      "  File \"/Users/yzhang/miniconda3/envs/data/lib/python3.11/site-packages/torchvision/models/resnet.py\", line 275, in _forward_impl\n",
      "    x = self.layer3(x)\n",
      "        ^^^^^^^^^^^^^^\n",
      "  File \"/Users/yzhang/miniconda3/envs/data/lib/python3.11/site-packages/torch/nn/modules/module.py\", line 1739, in _wrapped_call_impl\n",
      "    return self._call_impl(*args, **kwargs)\n",
      "           ^^^^^^^^^^^^^^^^^^^^^^^^^^^^^^^^\n",
      "  File \"/Users/yzhang/miniconda3/envs/data/lib/python3.11/site-packages/torch/nn/modules/module.py\", line 1750, in _call_impl\n",
      "    return forward_call(*args, **kwargs)\n",
      "           ^^^^^^^^^^^^^^^^^^^^^^^^^^^^^\n",
      "  File \"/Users/yzhang/miniconda3/envs/data/lib/python3.11/site-packages/torch/nn/modules/container.py\", line 250, in forward\n",
      "    input = module(input)\n",
      "            ^^^^^^^^^^^^^\n",
      "  File \"/Users/yzhang/miniconda3/envs/data/lib/python3.11/site-packages/torch/nn/modules/module.py\", line 1739, in _wrapped_call_impl\n",
      "    return self._call_impl(*args, **kwargs)\n",
      "           ^^^^^^^^^^^^^^^^^^^^^^^^^^^^^^^^\n",
      "  File \"/Users/yzhang/miniconda3/envs/data/lib/python3.11/site-packages/torch/nn/modules/module.py\", line 1750, in _call_impl\n",
      "    return forward_call(*args, **kwargs)\n",
      "           ^^^^^^^^^^^^^^^^^^^^^^^^^^^^^\n",
      "  File \"/Users/yzhang/miniconda3/envs/data/lib/python3.11/site-packages/torchvision/models/resnet.py\", line 146, in forward\n",
      "    out = self.conv1(x)\n",
      "          ^^^^^^^^^^^^^\n",
      "  File \"/Users/yzhang/miniconda3/envs/data/lib/python3.11/site-packages/torch/nn/modules/module.py\", line 1739, in _wrapped_call_impl\n",
      "    return self._call_impl(*args, **kwargs)\n",
      "           ^^^^^^^^^^^^^^^^^^^^^^^^^^^^^^^^\n",
      "  File \"/Users/yzhang/miniconda3/envs/data/lib/python3.11/site-packages/torch/nn/modules/module.py\", line 1750, in _call_impl\n",
      "    return forward_call(*args, **kwargs)\n",
      "           ^^^^^^^^^^^^^^^^^^^^^^^^^^^^^\n",
      "  File \"/Users/yzhang/miniconda3/envs/data/lib/python3.11/site-packages/torch/nn/modules/conv.py\", line 554, in forward\n",
      "    return self._conv_forward(input, self.weight, self.bias)\n",
      "           ^^^^^^^^^^^^^^^^^^^^^^^^^^^^^^^^^^^^^^^^^^^^^^^^^\n",
      "  File \"/Users/yzhang/miniconda3/envs/data/lib/python3.11/site-packages/torch/nn/modules/conv.py\", line 549, in _conv_forward\n",
      "    return F.conv2d(\n",
      "           ^^^^^^^^^\n",
      "KeyboardInterrupt\n"
     ]
    }
   ],
   "source": [
    "!python train.py --save_base_folder=trained/ \\\n",
    "--epochs=10 --batch_size=64 \\\n",
    "--save_epochs=1 --eval_epochs=1 "
   ]
  },
  {
   "cell_type": "code",
   "execution_count": null,
   "id": "7a3390e5-96d8-4238-97b7-fc61c27b01d1",
   "metadata": {},
   "outputs": [],
   "source": []
  }
 ],
 "metadata": {
  "kernelspec": {
   "display_name": "Python 3 (ipykernel)",
   "language": "python",
   "name": "python3"
  },
  "language_info": {
   "codemirror_mode": {
    "name": "ipython",
    "version": 3
   },
   "file_extension": ".py",
   "mimetype": "text/x-python",
   "name": "python",
   "nbconvert_exporter": "python",
   "pygments_lexer": "ipython3",
   "version": "3.11.9"
  }
 },
 "nbformat": 4,
 "nbformat_minor": 5
}
