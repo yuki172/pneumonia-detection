{
 "cells": [
  {
   "cell_type": "code",
   "execution_count": null,
   "id": "6a37a40a-b396-4bd2-9544-435e2125a60f",
   "metadata": {},
   "outputs": [],
   "source": [
    "--pretrained_path=trained/epoch_2/ \\"
   ]
  },
  {
   "cell_type": "code",
   "execution_count": 26,
   "id": "3883c6aa-112d-475c-91cb-500e2c1086ec",
   "metadata": {},
   "outputs": [],
   "source": [
    "!python train.py --save_base_folder=trained/ \\\n",
    "--epochs=10 --batch_size=2 \\\n",
    "--save_epochs=1 --eval_epochs=1 \\\n",
    "--max_samples=8"
   ]
  },
  {
   "cell_type": "code",
   "execution_count": 4,
   "id": "7a3390e5-96d8-4238-97b7-fc61c27b01d1",
   "metadata": {},
   "outputs": [
    {
     "name": "stdout",
     "output_type": "stream",
     "text": [
      "usage: run_experiment.py [-h] [--epochs EPOCHS] [--batch_size BATCH_SIZE]\n",
      "                         [--learning_rate LEARNING_RATE]\n",
      "                         [--optimizer_name OPTIMIZER_NAME] [--augment AUGMENT]\n",
      "                         [--max_samples MAX_SAMPLES]\n",
      "                         [--save_epochs SAVE_EPOCHS]\n",
      "                         [--save_base_folder SAVE_BASE_FOLDER]\n",
      "                         [--pretrained_path PRETRAINED_PATH]\n",
      "run_experiment.py: error: unrecognized arguments: -- --config_name=adam-1e4-64.yaml\n"
     ]
    }
   ],
   "source": [
    "# !python -m experiments.run_experiment -- --config_name=adam-1e4-64.yaml"
   ]
  },
  {
   "cell_type": "code",
   "execution_count": 19,
   "id": "18ee46d3-13fb-4d41-9b55-54097edd16d1",
   "metadata": {},
   "outputs": [],
   "source": [
    "%run -m experiments.run_experiment"
   ]
  },
  {
   "cell_type": "code",
   "execution_count": 20,
   "id": "7751a123-046a-4750-843b-bc7945a3dda6",
   "metadata": {},
   "outputs": [
    {
     "name": "stdout",
     "output_type": "stream",
     "text": [
      "epochs 10\n",
      "batch_size 64\n",
      "learning_rate 0.0001\n",
      "save_epochs 1\n",
      "save_base_folder trained/\n",
      "augment True\n",
      "max_samples 8\n",
      "pretrained_path None\n",
      "optimizer_name Adam\n",
      "device cpu\n",
      "train num batches 1\n",
      "eval num batches 1\n",
      "metrics json not found\n",
      "\n",
      "Start training...\n",
      "\n",
      "\n",
      "Epoch: 0\n"
     ]
    },
    {
     "name": "stderr",
     "output_type": "stream",
     "text": [
      "100%|█████████████████████████████████████████████| 1/1 [00:01<00:00,  1.68s/it]"
     ]
    },
    {
     "name": "stdout",
     "output_type": "stream",
     "text": [
      "\n",
      "Epoch: 1\n"
     ]
    },
    {
     "name": "stderr",
     "output_type": "stream",
     "text": [
      "100%|█████████████████████████████████████████████| 1/1 [00:01<00:00,  1.36s/it]"
     ]
    },
    {
     "name": "stdout",
     "output_type": "stream",
     "text": [
      "\n",
      "Epoch: 2\n"
     ]
    },
    {
     "name": "stderr",
     "output_type": "stream",
     "text": [
      "100%|█████████████████████████████████████████████| 1/1 [00:00<00:00,  1.44it/s]"
     ]
    },
    {
     "name": "stdout",
     "output_type": "stream",
     "text": [
      "\n",
      "Epoch: 3\n"
     ]
    },
    {
     "name": "stderr",
     "output_type": "stream",
     "text": [
      "100%|█████████████████████████████████████████████| 1/1 [00:00<00:00,  1.45it/s]"
     ]
    },
    {
     "name": "stdout",
     "output_type": "stream",
     "text": [
      "\n",
      "Epoch: 4\n"
     ]
    },
    {
     "name": "stderr",
     "output_type": "stream",
     "text": [
      "100%|█████████████████████████████████████████████| 1/1 [00:00<00:00,  1.34it/s]"
     ]
    },
    {
     "name": "stdout",
     "output_type": "stream",
     "text": [
      "\n",
      "Epoch: 5\n"
     ]
    },
    {
     "name": "stderr",
     "output_type": "stream",
     "text": [
      "100%|█████████████████████████████████████████████| 1/1 [00:00<00:00,  1.53it/s]"
     ]
    },
    {
     "name": "stdout",
     "output_type": "stream",
     "text": [
      "\n",
      "Epoch: 6\n"
     ]
    },
    {
     "name": "stderr",
     "output_type": "stream",
     "text": [
      "100%|█████████████████████████████████████████████| 1/1 [00:00<00:00,  1.66it/s]"
     ]
    },
    {
     "name": "stdout",
     "output_type": "stream",
     "text": [
      "\n",
      "Epoch: 7\n"
     ]
    },
    {
     "name": "stderr",
     "output_type": "stream",
     "text": [
      "100%|█████████████████████████████████████████████| 1/1 [00:00<00:00,  1.87it/s]"
     ]
    },
    {
     "name": "stdout",
     "output_type": "stream",
     "text": [
      "\n",
      "Epoch: 8\n"
     ]
    },
    {
     "name": "stderr",
     "output_type": "stream",
     "text": [
      "100%|█████████████████████████████████████████████| 1/1 [00:01<00:00,  1.50s/it]"
     ]
    },
    {
     "name": "stdout",
     "output_type": "stream",
     "text": [
      "\n",
      "Epoch: 9\n"
     ]
    },
    {
     "name": "stderr",
     "output_type": "stream",
     "text": [
      "                                                                                "
     ]
    },
    {
     "name": "stdout",
     "output_type": "stream",
     "text": [
      "\n",
      "End training\n",
      "\n"
     ]
    },
    {
     "name": "stderr",
     "output_type": "stream",
     "text": [
      "\r"
     ]
    },
    {
     "ename": "AttributeError",
     "evalue": "'dict' object has no attribute 'epochs'",
     "output_type": "error",
     "traceback": [
      "\u001b[0;31m---------------------------------------------------------------------------\u001b[0m",
      "\u001b[0;31mAttributeError\u001b[0m                            Traceback (most recent call last)",
      "Cell \u001b[0;32mIn[20], line 1\u001b[0m\n\u001b[0;32m----> 1\u001b[0m \u001b[43mrun_experiment\u001b[49m\u001b[43m(\u001b[49m\u001b[38;5;124;43m\"\u001b[39;49m\u001b[38;5;124;43mexperiments/configs/adam-1e4-64.yaml\u001b[39;49m\u001b[38;5;124;43m\"\u001b[39;49m\u001b[43m)\u001b[49m\n",
      "File \u001b[0;32m~/b/pneumonia-detection/experiments/run_experiment.py:21\u001b[0m, in \u001b[0;36mrun_experiment\u001b[0;34m(config_path)\u001b[0m\n\u001b[1;32m     17\u001b[0m mlflow\u001b[38;5;241m.\u001b[39mlog_params(config)\n\u001b[1;32m     19\u001b[0m best_model, metrics \u001b[38;5;241m=\u001b[39m train(\u001b[38;5;241m*\u001b[39m\u001b[38;5;241m*\u001b[39mconfig)\n\u001b[0;32m---> 21\u001b[0m \u001b[38;5;28;01mfor\u001b[39;00m epoch \u001b[38;5;129;01min\u001b[39;00m \u001b[38;5;28mrange\u001b[39m(\u001b[43mconfig\u001b[49m\u001b[38;5;241;43m.\u001b[39;49m\u001b[43mepochs\u001b[49m):\n\u001b[1;32m     22\u001b[0m     \u001b[38;5;28;01mfor\u001b[39;00m key, metric \u001b[38;5;129;01min\u001b[39;00m metrics\u001b[38;5;241m.\u001b[39mitems():\n\u001b[1;32m     23\u001b[0m         \u001b[38;5;28;01mif\u001b[39;00m key \u001b[38;5;241m!=\u001b[39m \u001b[38;5;124m\"\u001b[39m\u001b[38;5;124mbest_eval_loss\u001b[39m\u001b[38;5;124m\"\u001b[39m:\n",
      "\u001b[0;31mAttributeError\u001b[0m: 'dict' object has no attribute 'epochs'"
     ]
    }
   ],
   "source": [
    "run_experiment(\"experiments/configs/adam-1e4-64.yaml\")"
   ]
  },
  {
   "cell_type": "code",
   "execution_count": null,
   "id": "db144c89-2dbc-4d02-a75c-5609b1958f96",
   "metadata": {},
   "outputs": [],
   "source": []
  }
 ],
 "metadata": {
  "kernelspec": {
   "display_name": "Python 3 (ipykernel)",
   "language": "python",
   "name": "python3"
  },
  "language_info": {
   "codemirror_mode": {
    "name": "ipython",
    "version": 3
   },
   "file_extension": ".py",
   "mimetype": "text/x-python",
   "name": "python",
   "nbconvert_exporter": "python",
   "pygments_lexer": "ipython3",
   "version": "3.11.9"
  }
 },
 "nbformat": 4,
 "nbformat_minor": 5
}
