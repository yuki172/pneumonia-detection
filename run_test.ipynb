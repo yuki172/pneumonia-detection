{
 "cells": [
  {
   "cell_type": "code",
   "execution_count": 15,
   "id": "2ec72352-2160-45b2-8e74-0713a0769b69",
   "metadata": {},
   "outputs": [
    {
     "name": "stdout",
     "output_type": "stream",
     "text": [
      "save_folder test_results\n",
      "model_path trained/adam-0.0001-64-3-augment/epoch_2/model.pth\n",
      "batch_size 2\n",
      "max_samples 8\n",
      "device cpu\n",
      "has grad False\n",
      "WARNING:root:tensor([[1]]) classes have zero instances in both the predictions and the ground truth labels. Precision is still logged as zero.\n",
      "WARNING:root:One or more NaNs identified, as no ground-truth instances of [1] have been seen. These have been converted to zero.\n",
      "WARNING:root:Warning: Some classes do not exist in the target. F1 scores for these classes will be cast to zeros.\n"
     ]
    }
   ],
   "source": [
    "!python test.py --model_path=trained/adam-0.0001-64-3-augment/epoch_2/model.pth \\\n",
    "--batch_size=2 \\\n",
    "--save_folder=test_results \\\n",
    "--max_samples=8 "
   ]
  },
  {
   "cell_type": "code",
   "execution_count": 22,
   "id": "b38ea2b1-67ae-4fc8-b03a-07badff19ebf",
   "metadata": {},
   "outputs": [
    {
     "name": "stdout",
     "output_type": "stream",
     "text": [
      "save_folder test_results\n",
      "model_path trained/adam-0.0001-64-3-augment/epoch_2/model.pth\n",
      "batch_size 2\n",
      "max_samples 8\n",
      "device cpu\n",
      "has grad True\n",
      "---- 0 0 torch.Size([3, 224, 224]) 2.5179958\n",
      "---- 0 1 torch.Size([3, 224, 224]) 1.1759479\n",
      "---- 1 0 torch.Size([3, 224, 224]) 1.7685405\n",
      "---- 1 1 torch.Size([3, 224, 224]) 1.4025275\n",
      "---- 2 0 torch.Size([3, 224, 224]) 1.5942485\n",
      "---- 2 1 torch.Size([3, 224, 224]) 1.4025275\n",
      "---- 3 0 torch.Size([3, 224, 224]) 1.5593902\n",
      "---- 3 1 torch.Size([3, 224, 224]) 1.8382572\n",
      "WARNING:root:tensor([[1]]) classes have zero instances in both the predictions and the ground truth labels. Precision is still logged as zero.\n",
      "WARNING:root:One or more NaNs identified, as no ground-truth instances of [1] have been seen. These have been converted to zero.\n",
      "WARNING:root:Warning: Some classes do not exist in the target. F1 scores for these classes will be cast to zeros.\n",
      "--- image 2.5179958\n",
      "--- image 1.1759479\n",
      "--- image 1.7685405\n",
      "--- image 1.4025275\n"
     ]
    }
   ],
   "source": [
    "!python test.py --model_path=trained/adam-0.0001-64-3-augment/epoch_2/model.pth \\\n",
    "--batch_size=2 \\\n",
    "--save_folder=test_results \\\n",
    "--max_samples=8 \\\n",
    "--enable_grad_cam=True"
   ]
  },
  {
   "cell_type": "code",
   "execution_count": 8,
   "id": "32d88c35-7766-4afd-94b0-28c05d929f86",
   "metadata": {},
   "outputs": [],
   "source": [
    "import os\n",
    "os.makedirs(\"test_results\", exist_ok=True)"
   ]
  },
  {
   "cell_type": "code",
   "execution_count": 7,
   "id": "86d2ab89-8af2-4b40-b59c-c0aafc715364",
   "metadata": {},
   "outputs": [
    {
     "data": {
      "text/plain": [
       "''"
      ]
     },
     "execution_count": 7,
     "metadata": {},
     "output_type": "execute_result"
    }
   ],
   "source": [
    "os.path.dirname(\"test_results\")"
   ]
  },
  {
   "cell_type": "code",
   "execution_count": null,
   "id": "8c1f69ba-e3a9-4ae2-ab78-f88502d62642",
   "metadata": {},
   "outputs": [],
   "source": [
    " os.makedirs(os.path.dirname(save_base_folder), exist_ok=True)"
   ]
  }
 ],
 "metadata": {
  "kernelspec": {
   "display_name": "Python 3 (ipykernel)",
   "language": "python",
   "name": "python3"
  },
  "language_info": {
   "codemirror_mode": {
    "name": "ipython",
    "version": 3
   },
   "file_extension": ".py",
   "mimetype": "text/x-python",
   "name": "python",
   "nbconvert_exporter": "python",
   "pygments_lexer": "ipython3",
   "version": "3.11.9"
  }
 },
 "nbformat": 4,
 "nbformat_minor": 5
}
