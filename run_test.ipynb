{
 "cells": [
  {
   "cell_type": "code",
   "execution_count": 1,
   "id": "2ec72352-2160-45b2-8e74-0713a0769b69",
   "metadata": {},
   "outputs": [],
   "source": [
    "!python test.py --model_path=trained/adam-0.0001-64-3-augment/epoch_2/model.pth \\\n",
    "--batch_size=2 \\\n",
    "--save_folder=gramcam \\\n",
    "--max_samples=8 "
   ]
  },
  {
   "cell_type": "code",
   "execution_count": null,
   "id": "32d88c35-7766-4afd-94b0-28c05d929f86",
   "metadata": {},
   "outputs": [],
   "source": []
  }
 ],
 "metadata": {
  "kernelspec": {
   "display_name": "Python 3 (ipykernel)",
   "language": "python",
   "name": "python3"
  },
  "language_info": {
   "codemirror_mode": {
    "name": "ipython",
    "version": 3
   },
   "file_extension": ".py",
   "mimetype": "text/x-python",
   "name": "python",
   "nbconvert_exporter": "python",
   "pygments_lexer": "ipython3",
   "version": "3.11.9"
  }
 },
 "nbformat": 4,
 "nbformat_minor": 5
}
