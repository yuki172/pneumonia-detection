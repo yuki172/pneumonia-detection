{
 "cells": [
  {
   "cell_type": "code",
   "execution_count": 1,
   "id": "861f163d-22db-4323-9d1d-1b4cb398a43d",
   "metadata": {},
   "outputs": [],
   "source": [
    "import os\n",
    "os.chdir(\"..\") "
   ]
  },
  {
   "cell_type": "code",
   "execution_count": 1,
   "id": "b38ea2b1-67ae-4fc8-b03a-07badff19ebf",
   "metadata": {},
   "outputs": [
    {
     "name": "stdout",
     "output_type": "stream",
     "text": [
      "save_folder test_results\n",
      "model_path trained/Resnet50Model2-adam-0.0001-64-20-augment/epoch_19/model.pth\n",
      "batch_size 32\n",
      "max_samples None\n",
      "enable_grad_cam True\n",
      "model_name Resnet50Model2-adam-0.0001-64-20-augment\n",
      "device cpu\n"
     ]
    }
   ],
   "source": [
    "!python test.py --model_path=trained/Resnet50Model2-adam-0.0001-64-20-augment/epoch_19/model.pth \\\n",
    "--model_name=Resnet50Model2-adam-0.0001-64-20-augment \\\n",
    "--batch_size=32 \\\n",
    "--save_folder=test_results \\\n",
    "--enable_grad_cam=True"
   ]
  }
 ],
 "metadata": {
  "kernelspec": {
   "display_name": "Python 3 (ipykernel)",
   "language": "python",
   "name": "python3"
  },
  "language_info": {
   "codemirror_mode": {
    "name": "ipython",
    "version": 3
   },
   "file_extension": ".py",
   "mimetype": "text/x-python",
   "name": "python",
   "nbconvert_exporter": "python",
   "pygments_lexer": "ipython3",
   "version": "3.11.9"
  }
 },
 "nbformat": 4,
 "nbformat_minor": 5
}
